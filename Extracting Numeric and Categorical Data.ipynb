{
 "cells": [
  {
   "cell_type": "markdown",
   "source": [
    "# 1. Imports"
   ],
   "metadata": {
    "collapsed": false
   },
   "id": "3ac65693d3334d50"
  },
  {
   "cell_type": "code",
   "execution_count": 22,
   "id": "initial_id",
   "metadata": {
    "collapsed": true,
    "ExecuteTime": {
     "end_time": "2024-01-18T14:12:39.671422Z",
     "start_time": "2024-01-18T14:12:39.625970Z"
    }
   },
   "outputs": [],
   "source": [
    "import pandas as pd\n",
    "import datetime"
   ]
  },
  {
   "cell_type": "markdown",
   "source": [
    "# 2. Reading the Data Into Dataframes"
   ],
   "metadata": {
    "collapsed": false
   },
   "id": "18988a23988bd8dd"
  },
  {
   "cell_type": "markdown",
   "source": [
    "# 1.1 Reading functions"
   ],
   "metadata": {
    "collapsed": false
   },
   "id": "26a4d04bfdf1f90b"
  },
  {
   "cell_type": "code",
   "execution_count": 23,
   "outputs": [],
   "source": [
    "circle_tweet_content_df = pd.read_csv('circle_tweet_content.csv')\n",
    "circle_tweets_df = pd.read_csv('circle_tweets.csv')\n",
    "engagements_df = pd.read_csv('engagements.csv')\n",
    "likes_df = pd.read_csv('likes.csv')\n",
    "shows_df = pd.read_csv('shows.csv')\n",
    "ad_target_df = pd.read_csv('interests.csv')\n",
    "tweet_content_df = pd.read_csv('tweet_content.csv')\n",
    "tweets_df = pd.read_csv('tweets.csv')"
   ],
   "metadata": {
    "collapsed": false,
    "ExecuteTime": {
     "end_time": "2024-01-18T14:12:40.372597Z",
     "start_time": "2024-01-18T14:12:40.220685Z"
    }
   },
   "id": "de4524ec17713664"
  },
  {
   "cell_type": "markdown",
   "source": [
    "# 3. Cleaning Data"
   ],
   "metadata": {
    "collapsed": false
   },
   "id": "532ace43c20e878"
  },
  {
   "cell_type": "markdown",
   "source": [
    "# 3.1 Cleaning the Advertisement Data"
   ],
   "metadata": {
    "collapsed": false
   },
   "id": "c9dd6d443d2d0932"
  },
  {
   "cell_type": "markdown",
   "source": [
    "### 3.1.1 Defining Functions"
   ],
   "metadata": {
    "collapsed": false
   },
   "id": "e29ddc991c304b1e"
  },
  {
   "cell_type": "code",
   "execution_count": 24,
   "outputs": [],
   "source": [
    "def count_and_merge(data):\n",
    "    '''\n",
    "    This function takes in a dataframe and returns a dataframe with merged values.\n",
    "    ---\n",
    "    Parameters:\n",
    "        data: pandas dataframe\n",
    "    ---\n",
    "    Returns:\n",
    "        df: pandas dataframe\n",
    "    '''\n",
    "    df = data.groupby(['targeting type', 'targeting value']).size().reset_index(name='counts')\n",
    "    df.sort_values(by=['counts'], ascending=False, inplace=True)\n",
    "    return df"
   ],
   "metadata": {
    "collapsed": false,
    "ExecuteTime": {
     "end_time": "2024-01-18T14:12:40.966788Z",
     "start_time": "2024-01-18T14:12:40.945638Z"
    }
   },
   "id": "9c51b0dd820afc89"
  },
  {
   "cell_type": "code",
   "execution_count": 25,
   "outputs": [],
   "source": [
    "def targeting_type_frequency(data):\n",
    "    '''\n",
    "    This function takes in a dataframe and returns a dataframe with the frequency of each targeting type.\n",
    "    ---\n",
    "    Parameters:\n",
    "        data: pandas dataframe\n",
    "    ---\n",
    "    Returns:\n",
    "        df: pandas dataframe\n",
    "    '''\n",
    "    df = data.groupby(['targeting type']).size().reset_index(name='counts')\n",
    "    df.sort_values(by=['counts'], ascending=False, inplace=True)\n",
    "    return df"
   ],
   "metadata": {
    "collapsed": false,
    "ExecuteTime": {
     "end_time": "2024-01-18T14:12:41.150658Z",
     "start_time": "2024-01-18T14:12:41.131167Z"
    }
   },
   "id": "6efd5d7a256ebc00"
  },
  {
   "cell_type": "code",
   "execution_count": 26,
   "outputs": [],
   "source": [
    "def targeting_value_frequency(data):\n",
    "    '''\n",
    "    This function takes in a dataframe and returns a dataframe with the frequency of each targeting value.\n",
    "    ---\n",
    "    Parameters:\n",
    "        data: pandas dataframe\n",
    "    ---\n",
    "    Returns:\n",
    "        df: pandas dataframe\n",
    "    '''\n",
    "    df = data.groupby(['targeting value']).size().reset_index(name='counts')\n",
    "    df.sort_values(by=['counts'], ascending=False, inplace=True)\n",
    "    return df"
   ],
   "metadata": {
    "collapsed": false,
    "ExecuteTime": {
     "end_time": "2024-01-18T14:12:41.331956Z",
     "start_time": "2024-01-18T14:12:41.307611Z"
    }
   },
   "id": "c6360bc92c9ffbf4"
  },
  {
   "cell_type": "code",
   "execution_count": 27,
   "outputs": [],
   "source": [
    "def convert_to_date(date):\n",
    "    '''\n",
    "    This function takes in a date in the format of a string and returns a date in the format of a datetime object.\n",
    "    ---\n",
    "    Parameters:\n",
    "        date: str\n",
    "    ---\n",
    "    Returns:\n",
    "        date: datetime object\n",
    "    '''\n",
    "    date = datetime.datetime.strptime(date, '%Y-%m-%d')\n",
    "    return date"
   ],
   "metadata": {
    "collapsed": false,
    "ExecuteTime": {
     "end_time": "2024-01-18T14:12:41.513326Z",
     "start_time": "2024-01-18T14:12:41.487008Z"
    }
   },
   "id": "44f0b99f04d1c749"
  },
  {
   "cell_type": "code",
   "execution_count": 28,
   "outputs": [],
   "source": [
    "def sort_by_date(df):\n",
    "    '''\n",
    "    This function takes in a dataframe and returns a dataframe sorted by date.\n",
    "    ---\n",
    "    Parameters:\n",
    "        data: pandas dataframe\n",
    "    ---\n",
    "    Returns:\n",
    "        df: pandas dataframe\n",
    "    '''\n",
    "    for i, row in df.iterrows():\n",
    "        date = convert_to_date(row['date'])\n",
    "        df.at[i, 'date'] = date\n",
    "    df = df.sort_values(by=['date'], ascending=True)\n",
    "    return df"
   ],
   "metadata": {
    "collapsed": false,
    "ExecuteTime": {
     "end_time": "2024-01-18T14:12:41.980484Z",
     "start_time": "2024-01-18T14:12:41.942177Z"
    }
   },
   "id": "185b1241b6a5af34"
  },
  {
   "cell_type": "code",
   "execution_count": 29,
   "outputs": [],
   "source": [
    "def remove_hashtags(data):\n",
    "    '''\n",
    "    This function takes in a dataframe and returns a dataframe with the hashtags removed.\n",
    "    ---\n",
    "    Parameters:\n",
    "        data: pandas dataframe\n",
    "    ---\n",
    "    Returns:\n",
    "        df: pandas dataframe\n",
    "    '''\n",
    "\n",
    "    for i, row in data.iterrows():\n",
    "        value = row['targeting value']\n",
    "        if value[0] == '#':\n",
    "            value = value[1:]\n",
    "        if len(value) > 3 and value[0:2] == 'the':\n",
    "            value = value[2:]\n",
    "        data.at[i, 'targeting value'] = value\n",
    "    return data"
   ],
   "metadata": {
    "collapsed": false,
    "ExecuteTime": {
     "end_time": "2024-01-18T14:12:42.225458Z",
     "start_time": "2024-01-18T14:12:42.201991Z"
    }
   },
   "id": "bec5ca674acbf9e7"
  },
  {
   "cell_type": "markdown",
   "source": [
    "### 3.1.2 Cleaning the Advertisment Data Using the Defined Functions"
   ],
   "metadata": {
    "collapsed": false
   },
   "id": "a075ac9987670e95"
  },
  {
   "cell_type": "code",
   "execution_count": 30,
   "outputs": [],
   "source": [
    "ad_target_df = remove_hashtags(ad_target_df)\n",
    "ad_target_df_cleaned = count_and_merge(data=ad_target_df) # this dataframe contains the merged values (targeting type, targeting value), frequency of the merged values\n",
    "targeting_freq_df = targeting_type_frequency(data=ad_target_df) # this dataframe contains the frequency of each targeting type\n",
    "value_freq_df = targeting_value_frequency(data=ad_target_df) # this dataframe contains the frequency of each targeting value even if the targeting types are different for two merged targeting values provided that the values are the same\n",
    "target_date_df = sort_by_date(df=ad_target_df) # this dataframe is sorted by date (earliest to latest)"
   ],
   "metadata": {
    "collapsed": false,
    "ExecuteTime": {
     "end_time": "2024-01-18T14:12:44.994738Z",
     "start_time": "2024-01-18T14:12:43.163324Z"
    }
   },
   "id": "f350fb075b0b6cbd"
  },
  {
   "cell_type": "code",
   "execution_count": 31,
   "outputs": [],
   "source": [
    "ad_target_df_cleaned.to_csv('ad_target_df_cleaned.csv', index=False)\n",
    "targeting_freq_df.to_csv('targeting_freq_df.csv', index=False)\n",
    "value_freq_df.to_csv('value_freq_df.csv', index=False)\n",
    "target_date_df.to_csv('target_date_df.csv', index=False)"
   ],
   "metadata": {
    "collapsed": false,
    "ExecuteTime": {
     "end_time": "2024-01-18T14:12:46.977804Z",
     "start_time": "2024-01-18T14:12:46.854343Z"
    }
   },
   "id": "e2ecec0724d42e62"
  },
  {
   "cell_type": "code",
   "execution_count": 33,
   "outputs": [
    {
     "data": {
      "text/plain": "     targeting value  counts\n815           turkey    1099\n569              ios     689\n6          18 and up     662\n466          english     647\n643          netflix     467\n..               ...     ...\n227  @richardbranson       1\n607             lmao       1\n605             list       1\n604             like       1\n433     demon slayer       1\n\n[867 rows x 2 columns]",
      "text/html": "<div>\n<style scoped>\n    .dataframe tbody tr th:only-of-type {\n        vertical-align: middle;\n    }\n\n    .dataframe tbody tr th {\n        vertical-align: top;\n    }\n\n    .dataframe thead th {\n        text-align: right;\n    }\n</style>\n<table border=\"1\" class=\"dataframe\">\n  <thead>\n    <tr style=\"text-align: right;\">\n      <th></th>\n      <th>targeting value</th>\n      <th>counts</th>\n    </tr>\n  </thead>\n  <tbody>\n    <tr>\n      <th>815</th>\n      <td>turkey</td>\n      <td>1099</td>\n    </tr>\n    <tr>\n      <th>569</th>\n      <td>ios</td>\n      <td>689</td>\n    </tr>\n    <tr>\n      <th>6</th>\n      <td>18 and up</td>\n      <td>662</td>\n    </tr>\n    <tr>\n      <th>466</th>\n      <td>english</td>\n      <td>647</td>\n    </tr>\n    <tr>\n      <th>643</th>\n      <td>netflix</td>\n      <td>467</td>\n    </tr>\n    <tr>\n      <th>...</th>\n      <td>...</td>\n      <td>...</td>\n    </tr>\n    <tr>\n      <th>227</th>\n      <td>@richardbranson</td>\n      <td>1</td>\n    </tr>\n    <tr>\n      <th>607</th>\n      <td>lmao</td>\n      <td>1</td>\n    </tr>\n    <tr>\n      <th>605</th>\n      <td>list</td>\n      <td>1</td>\n    </tr>\n    <tr>\n      <th>604</th>\n      <td>like</td>\n      <td>1</td>\n    </tr>\n    <tr>\n      <th>433</th>\n      <td>demon slayer</td>\n      <td>1</td>\n    </tr>\n  </tbody>\n</table>\n<p>867 rows × 2 columns</p>\n</div>"
     },
     "execution_count": 33,
     "metadata": {},
     "output_type": "execute_result"
    }
   ],
   "source": [
    "value_freq_df"
   ],
   "metadata": {
    "collapsed": false,
    "ExecuteTime": {
     "end_time": "2024-01-18T14:13:19.644431Z",
     "start_time": "2024-01-18T14:13:19.610604Z"
    }
   },
   "id": "1d68127df727aed8"
  },
  {
   "cell_type": "markdown",
   "source": [
    "## 3.2 Cleaning the Tweet Data"
   ],
   "metadata": {
    "collapsed": false
   },
   "id": "8285265e826294ce"
  },
  {
   "cell_type": "markdown",
   "source": [
    "### 3.2.1 Defining Functions"
   ],
   "metadata": {
    "collapsed": false
   },
   "id": "2a0d70cdd82b942"
  },
  {
   "cell_type": "code",
   "execution_count": 34,
   "outputs": [],
   "source": [
    "def tweet_by_hour(data):\n",
    "    '''\n",
    "    This function takes in a dataframe and returns a dataframe with the frequency of tweets by hour.\n",
    "    ---\n",
    "    Parameters:\n",
    "        data: pandas dataframe\n",
    "    ---\n",
    "    Returns:\n",
    "        df: pandas dataframe\n",
    "    '''\n",
    "    df = data.groupby(['hour']).size().reset_index(name='counts')\n",
    "    df.sort_values(by=['counts'], ascending=False, inplace=True)\n",
    "    return df"
   ],
   "metadata": {
    "collapsed": false,
    "ExecuteTime": {
     "end_time": "2024-01-18T14:30:04.803582Z",
     "start_time": "2024-01-18T14:30:04.770324Z"
    }
   },
   "id": "ee03d8d9d28a6a86"
  },
  {
   "cell_type": "code",
   "execution_count": 35,
   "outputs": [],
   "source": [
    "def tweet_by_day(data):\n",
    "    '''\n",
    "    This function takes in a dataframe and returns a dataframe with the frequency of tweets by day.\n",
    "    ---\n",
    "    Parameters:\n",
    "        data: pandas dataframe\n",
    "    ---\n",
    "    Returns:\n",
    "        df: pandas dataframe\n",
    "    '''\n",
    "    df = data.groupby(['date']).size().reset_index(name='counts')\n",
    "    df.sort_values(by=['counts'], ascending=False, inplace=True)\n",
    "    return df"
   ],
   "metadata": {
    "collapsed": false,
    "ExecuteTime": {
     "end_time": "2024-01-18T14:30:08.990064Z",
     "start_time": "2024-01-18T14:30:08.953632Z"
    }
   },
   "id": "97cb59fd5c5d70"
  },
  {
   "cell_type": "code",
   "execution_count": 36,
   "outputs": [],
   "source": [
    "def most_active_hour_per_day(data):\n",
    "    '''\n",
    "    This function takes in a dataframe and returns a dataframe with the most active hour per day.\n",
    "    ---\n",
    "    Parameters:\n",
    "        data: pandas dataframe\n",
    "    ---\n",
    "    Returns:\n",
    "        df: pandas dataframe\n",
    "    '''\n",
    "\n",
    "    data['date'] = pd.to_datetime(data['date'])\n",
    "    result_dfs = []\n",
    "\n",
    "    for date, group in data.groupby(data['date'].dt.date):\n",
    "        most_active_hour = group['hour'].value_counts().idxmax()\n",
    "        result_dfs.append(pd.DataFrame({'date': [date], 'most active hour': [most_active_hour]}))\n",
    "\n",
    "    result_df = pd.concat(result_dfs, ignore_index=True)\n",
    "    result_df.sort_values(by=['date'], ascending=False, inplace=True)\n",
    "\n",
    "    return result_df\n"
   ],
   "metadata": {
    "collapsed": false,
    "ExecuteTime": {
     "end_time": "2024-01-18T14:30:13.702266Z",
     "start_time": "2024-01-18T14:30:13.664725Z"
    }
   },
   "id": "ccec618fecb3fdd"
  },
  {
   "cell_type": "code",
   "execution_count": 37,
   "outputs": [],
   "source": [
    "def language_frequency(data):\n",
    "    '''\n",
    "    This function takes in a dataframe and returns a dataframe with the frequency of each language.\n",
    "    ---\n",
    "    Parameters:\n",
    "        data: pandas dataframe\n",
    "    ---\n",
    "    Returns:\n",
    "        df: pandas dataframe\n",
    "    '''\n",
    "    df = data.groupby(['language']).size().reset_index(name='counts')\n",
    "    df.sort_values(by=['counts'], ascending=False, inplace=True)\n",
    "    return df"
   ],
   "metadata": {
    "collapsed": false,
    "ExecuteTime": {
     "end_time": "2024-01-18T14:30:19.651933Z",
     "start_time": "2024-01-18T14:30:19.611164Z"
    }
   },
   "id": "1c3286f9158d7661"
  },
  {
   "cell_type": "code",
   "execution_count": 38,
   "outputs": [],
   "source": [
    "def likes_per_day(data):\n",
    "    '''\n",
    "    This function takes in a dataframe and returns a dataframe with the frequency of likes per day.\n",
    "    ---\n",
    "    Parameters:\n",
    "        data: pandas dataframe\n",
    "    ---\n",
    "    Returns:\n",
    "        df: pandas dataframe\n",
    "    '''\n",
    "    # Assuming the column containing likes is named 'likes'\n",
    "    df = data.groupby(['date'])['likes'].sum().reset_index(name='likes per day')\n",
    "    df.sort_values(by=['likes per day'], ascending=False, inplace=True)\n",
    "    return df"
   ],
   "metadata": {
    "collapsed": false,
    "ExecuteTime": {
     "end_time": "2024-01-18T14:30:24.125624Z",
     "start_time": "2024-01-18T14:30:24.098237Z"
    }
   },
   "id": "54664572d7f6ea8"
  },
  {
   "cell_type": "code",
   "execution_count": 39,
   "outputs": [],
   "source": [
    "def retweets_per_day(data):\n",
    "    '''\n",
    "    This function takes in a dataframe and returns a dataframe with the frequency of likes per day.\n",
    "    ---\n",
    "    Parameters:\n",
    "        data: pandas dataframe\n",
    "    ---\n",
    "    Returns:\n",
    "        df: pandas dataframe\n",
    "    '''\n",
    "    # Assuming the column containing likes is named 'likes'\n",
    "    df = data.groupby(['date'])['retweets'].sum().reset_index(name='retweets per day')\n",
    "    df.sort_values(by=['retweets per day'], ascending=False, inplace=True)\n",
    "    return df"
   ],
   "metadata": {
    "collapsed": false,
    "ExecuteTime": {
     "end_time": "2024-01-18T14:30:29.377420Z",
     "start_time": "2024-01-18T14:30:29.352978Z"
    }
   },
   "id": "ad8fd2971199ff42"
  },
  {
   "cell_type": "code",
   "execution_count": 40,
   "outputs": [],
   "source": [
    "def most_common_language_per_day(data):\n",
    "    '''\n",
    "    This function takes in a dataframe and returns a dataframe with the most common language per day.\n",
    "    ---\n",
    "    Parameters:\n",
    "        data: pandas dataframe\n",
    "    ---\n",
    "    Returns:\n",
    "        df: pandas dataframe\n",
    "    '''\n",
    "    # Ensure 'date' is a datetime object\n",
    "    data['date'] = pd.to_datetime(data['date'])\n",
    "\n",
    "    # Group by date and find the most common language\n",
    "    result_list = []\n",
    "    for date, group in data.groupby(data['date'].dt.date):\n",
    "        most_common_language = group['language'].mode().iloc[0]\n",
    "        result_list.append({'date': date, 'most common language': most_common_language})\n",
    "\n",
    "    # Convert the list of dictionaries to a DataFrame\n",
    "    df = pd.DataFrame(result_list)\n",
    "    df.sort_values(by=['date'], ascending=False, inplace=True)\n",
    "\n",
    "    return df"
   ],
   "metadata": {
    "collapsed": false,
    "ExecuteTime": {
     "end_time": "2024-01-18T14:30:35.659639Z",
     "start_time": "2024-01-18T14:30:35.624507Z"
    }
   },
   "id": "8c88ac1f0c862e34"
  },
  {
   "cell_type": "code",
   "execution_count": 41,
   "outputs": [],
   "source": [
    "def likes_retweets_correlation(data):\n",
    "    '''\n",
    "    This function takes in a dataframe and returns a dataframe with the correlation between likes and retweets.\n",
    "    ---\n",
    "    Parameters:\n",
    "        data: pandas dataframe\n",
    "    ---\n",
    "    Returns:\n",
    "        correlation_df: pandas dataframe\n",
    "    '''\n",
    "\n",
    "    # Extract relevant columns\n",
    "    df = data[['likes', 'retweets']]\n",
    "    corr_matrix = df.corr()\n",
    "\n",
    "    return corr_matrix"
   ],
   "metadata": {
    "collapsed": false,
    "ExecuteTime": {
     "end_time": "2024-01-18T14:30:51.467122Z",
     "start_time": "2024-01-18T14:30:51.440560Z"
    }
   },
   "id": "a415ab11501a4ce2"
  },
  {
   "cell_type": "code",
   "execution_count": 42,
   "outputs": [],
   "source": [
    "def group_by_date_time(data):\n",
    "    '''\n",
    "    This function takes in a dataframe and returns a dataframe with the frequency of tweets by date and time.\n",
    "    ---\n",
    "    Parameters:\n",
    "        data: pandas dataframe\n",
    "    ---\n",
    "    Returns:\n",
    "        df: pandas dataframe\n",
    "    '''\n",
    "    df = data.groupby(['date', 'hour']).size().reset_index(name='counts')\n",
    "    df.sort_values(by=['counts'], ascending=False, inplace=True)\n",
    "    return df"
   ],
   "metadata": {
    "collapsed": false,
    "ExecuteTime": {
     "end_time": "2024-01-18T14:30:51.704592Z",
     "start_time": "2024-01-18T14:30:51.653931Z"
    }
   },
   "id": "cfba6c5277227324"
  },
  {
   "cell_type": "code",
   "execution_count": 52,
   "outputs": [],
   "source": [
    "# Group by 'date' and 'tweet/retweet', then count the occurrences\n",
    "tweets_versus_retweets = tweet_content_df.groupby(['date', 'tweet/retweet']).size().unstack(fill_value=0).reset_index()\n",
    "\n",
    "# Rename columns\n",
    "tweets_versus_retweets.columns = ['date', 'tweets', 'retweets']\n",
    "tweets_versus_retweets['tweets'] = tweets_versus_retweets['tweets'].astype(int)\n",
    "tweets_versus_retweets['retweets'] = tweets_versus_retweets['retweets'].astype(int)\n",
    "tweets_versus_retweets['date'] = pd.to_datetime(tweets_versus_retweets['date'])"
   ],
   "metadata": {
    "collapsed": false,
    "ExecuteTime": {
     "end_time": "2024-01-19T12:12:37.670153Z",
     "start_time": "2024-01-19T12:12:37.548625Z"
    }
   },
   "id": "512837f59b455c65"
  },
  {
   "cell_type": "code",
   "execution_count": 53,
   "outputs": [],
   "source": [],
   "metadata": {
    "collapsed": false,
    "ExecuteTime": {
     "end_time": "2024-01-19T12:12:46.998549Z",
     "start_time": "2024-01-19T12:12:46.978681Z"
    }
   },
   "id": "ee58690225b02a3e"
  },
  {
   "cell_type": "markdown",
   "source": [
    "### 3.2.2 Cleaning the Tweet Data"
   ],
   "metadata": {
    "collapsed": false
   },
   "id": "fbe633666dd7306a"
  },
  {
   "cell_type": "code",
   "execution_count": 43,
   "outputs": [],
   "source": [
    "tweets_by_hour_df = tweet_by_hour(data=tweets_df)\n",
    "tweets_by_date_df = tweet_by_day(data=tweets_df)\n",
    "mode_hour_df = most_active_hour_per_day(data=tweets_df)\n",
    "tweets_language_df = language_frequency(data=tweets_df)\n",
    "likes_per_day_df = likes_per_day(data=tweets_df)\n",
    "retweets_per_day_df = retweets_per_day(data=tweets_df)\n",
    "mode_language_df = most_common_language_per_day(data=tweets_df)\n",
    "corr_matrix_likes_rt = likes_retweets_correlation(data=tweets_df)\n",
    "tweets_by_datetime = group_by_date_time(data=tweets_df)"
   ],
   "metadata": {
    "collapsed": false,
    "ExecuteTime": {
     "end_time": "2024-01-18T14:37:07.640683Z",
     "start_time": "2024-01-18T14:37:07.198495Z"
    }
   },
   "id": "4c3c71187a77f4fe"
  },
  {
   "cell_type": "code",
   "execution_count": 45,
   "outputs": [],
   "source": [
    "tweets_by_hour_df.to_csv('tweets_by_hour.csv', index=False)\n",
    "tweets_by_date_df.to_csv('tweets_by_date.csv', index=False)\n",
    "mode_hour_df.to_csv('mode_hour.csv', index=False)\n",
    "tweets_language_df.to_csv('tweets_languages.csv', index=False)\n",
    "likes_per_day_df.to_csv('likes_per_day.csv', index=False)\n",
    "retweets_per_day_df.to_csv('retweets_per_day.csv', index=False)\n",
    "mode_language_df.to_csv('mode_language.csv', index=False)\n",
    "corr_matrix_likes_rt.to_csv('correlation matrix.csv', index=False)\n",
    "tweets_by_datetime.to_csv('tweets by datetime.csv', index=False)"
   ],
   "metadata": {
    "collapsed": false,
    "ExecuteTime": {
     "end_time": "2024-01-18T14:38:40.589161Z",
     "start_time": "2024-01-18T14:38:40.551365Z"
    }
   },
   "id": "2df7b83b6f18843a"
  },
  {
   "cell_type": "code",
   "execution_count": 54,
   "outputs": [],
   "source": [
    "tweets_versus_retweets.to_csv('tweets_versus_retweets.csv', index=True)"
   ],
   "metadata": {
    "collapsed": false,
    "ExecuteTime": {
     "end_time": "2024-01-19T12:12:52.384259Z",
     "start_time": "2024-01-19T12:12:52.322573Z"
    }
   },
   "id": "4046384377ac19f4"
  },
  {
   "cell_type": "code",
   "execution_count": null,
   "outputs": [],
   "source": [],
   "metadata": {
    "collapsed": false
   },
   "id": "b46081115aa2f811"
  }
 ],
 "metadata": {
  "kernelspec": {
   "display_name": "Python 3",
   "language": "python",
   "name": "python3"
  },
  "language_info": {
   "codemirror_mode": {
    "name": "ipython",
    "version": 2
   },
   "file_extension": ".py",
   "mimetype": "text/x-python",
   "name": "python",
   "nbconvert_exporter": "python",
   "pygments_lexer": "ipython2",
   "version": "2.7.6"
  }
 },
 "nbformat": 4,
 "nbformat_minor": 5
}
