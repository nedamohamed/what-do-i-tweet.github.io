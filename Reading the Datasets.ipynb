{
 "cells": [
  {
   "cell_type": "markdown",
   "source": [
    "# 1. Importing Libraries and Defining Constants"
   ],
   "metadata": {
    "collapsed": false
   },
   "id": "5ba0d1d25da34143"
  },
  {
   "cell_type": "code",
   "execution_count": 264,
   "id": "initial_id",
   "metadata": {
    "collapsed": true,
    "ExecuteTime": {
     "end_time": "2023-12-10T08:45:37.841931Z",
     "start_time": "2023-12-10T08:45:37.840575Z"
    }
   },
   "outputs": [],
   "source": [
    "import json\n",
    "import pandas as pd\n",
    "from datetime import datetime"
   ]
  },
  {
   "cell_type": "code",
   "execution_count": 225,
   "outputs": [],
   "source": [
    "ENCODING = 'utf-8'  # Encoding to read tweets which are in Arabic, English and contain some emojis."
   ],
   "metadata": {
    "collapsed": false,
    "ExecuteTime": {
     "end_time": "2023-12-10T08:29:57.098120Z",
     "start_time": "2023-12-10T08:29:57.091847Z"
    }
   },
   "id": "393914670c0506ae"
  },
  {
   "cell_type": "code",
   "execution_count": 243,
   "outputs": [],
   "source": [
    "'''\n",
    "The following dictionaries are used to store the data from the tweets and retweets. The data is stored in the following format for tweets and retweets:\n",
    "    {\n",
    "        'likes': [],\n",
    "        'retweets': [],\n",
    "        'date': [],\n",
    "        'hour': [],\n",
    "        'language': [],\n",
    "    }\n",
    "\n",
    "For tweet content, the data is stored in the following format:\n",
    "    {\n",
    "        'content': [],\n",
    "        'language': [],\n",
    "        'mentions': [],\n",
    "        'hashtags':[],\n",
    "        'tweet/retweet': [] # This is used to differentiate between tweets and retweets.\n",
    "    }\n",
    "'''\n",
    "tweets_data = {\n",
    "    'likes': [],\n",
    "    'retweets': [],\n",
    "    'date': [],\n",
    "    'hour': [],\n",
    "    'language': [],\n",
    "}\n",
    "\n",
    "retweets_data = {\n",
    "    'likes': [],\n",
    "    'retweets': [],\n",
    "    'date': [],\n",
    "    'hour': [],\n",
    "    'language': [],\n",
    "}\n",
    "\n",
    "tweet_content = {\n",
    "    'content': [],\n",
    "    'language': [],\n",
    "    'mentions': [],\n",
    "    'hashtags':[],\n",
    "    'tweet/retweet': [], # 0 for tweet, 1 for retweet\n",
    "    'is_quote': [], # 0 for not quote, 1 for quote\n",
    "    'date': [],\n",
    "    'hour': []\n",
    "}\n",
    "\n",
    "circle_tweets_data = {\n",
    "    'likes': [],\n",
    "    'retweets': [],\n",
    "    'date': [],\n",
    "    'hour': [],\n",
    "    'language': [],\n",
    "    \n",
    "}\n",
    "\n",
    "circle_tweet_content = {\n",
    "    'content': [],\n",
    "    'language': [],\n",
    "    'mentions': [],\n",
    "    'hashtags':[],\n",
    "    'is_quote': [], # 0 for not quote, 1 for quote\n",
    "    'date': [],\n",
    "    'hour': []\n",
    "}\n",
    "\n",
    "tweet_or_retweet = {\n",
    "    0: 'tweet',\n",
    "    1: 'retweet',\n",
    "}"
   ],
   "metadata": {
    "collapsed": false,
    "ExecuteTime": {
     "end_time": "2023-12-10T08:30:32.118257Z",
     "start_time": "2023-12-10T08:30:32.112022Z"
    }
   },
   "id": "d7f547841782b7d3"
  },
  {
   "cell_type": "code",
   "execution_count": 265,
   "outputs": [],
   "source": [
    "personalization_data = {\n",
    "    'languages': [],\n",
    "    'gender_info': [],\n",
    "    'interests': [],\n",
    "    'inferred_age_info': [],\n",
    "    'location_history': [],\n",
    "    'shows': [],\n",
    "}"
   ],
   "metadata": {
    "collapsed": false,
    "ExecuteTime": {
     "end_time": "2023-12-10T08:45:52.766161Z",
     "start_time": "2023-12-10T08:45:52.747964Z"
    }
   },
   "id": "aedb2fc309fb480c"
  },
  {
   "cell_type": "code",
   "execution_count": 302,
   "outputs": [],
   "source": [
    "ad_engagements_data = {\n",
    "    'targeting type/targeting value': [], # (targeting type, targeting value, date)\n",
    "    'engagements': [] # (engagement, date)\n",
    "}"
   ],
   "metadata": {
    "collapsed": false,
    "ExecuteTime": {
     "end_time": "2023-12-10T10:45:50.039560Z",
     "start_time": "2023-12-10T10:45:50.020743Z"
    }
   },
   "id": "6606e44ad52783d4"
  },
  {
   "cell_type": "markdown",
   "source": [
    "# 2. Importing Data\n",
    "\n",
    "Data will be read and processed in this section."
   ],
   "metadata": {
    "collapsed": false
   },
   "id": "d75afee37f5d644d"
  },
  {
   "cell_type": "markdown",
   "source": [
    "### Defining functions"
   ],
   "metadata": {
    "collapsed": false
   },
   "id": "863e92d7756ce0b5"
  },
  {
   "cell_type": "code",
   "execution_count": 267,
   "outputs": [],
   "source": [
    "def read_file(filename):\n",
    "    '''\n",
    "    This function takes in a file as a parameter and reads it with the provided encoding and loads. It returns a json object.\n",
    "    ---\n",
    "    Parameters:\n",
    "        filename: str\n",
    "    ---\n",
    "    Returns:\n",
    "        data: json object\n",
    "    '''\n",
    "    with open(filename, 'r', encoding=ENCODING) as file:\n",
    "        data = file.read()\n",
    "        json_data = (\"=\").join(data.split(\"=\")[1:])\n",
    "        data = json.loads(json_data)\n",
    "    return data"
   ],
   "metadata": {
    "collapsed": false,
    "ExecuteTime": {
     "end_time": "2023-12-10T08:45:57.732132Z",
     "start_time": "2023-12-10T08:45:57.725787Z"
    }
   },
   "id": "58bfa6b92198bc2f"
  },
  {
   "cell_type": "code",
   "execution_count": 268,
   "outputs": [],
   "source": [
    "def convert_to_datetime(timestamp_str):\n",
    "    '''\n",
    "    This function takes in a timestamp string and returns the date and time.\n",
    "    ---\n",
    "    Parameters:\n",
    "        timestamp_str: str\n",
    "    ---\n",
    "    Returns:\n",
    "        date: str YYYY-MM-DD\n",
    "        time: int HH (24 Hour)\n",
    "    '''\n",
    "\n",
    "    timestamp_object = datetime.strptime(timestamp_str, '%a %b %d %H:%M:%S %z %Y')\n",
    "\n",
    "    date = timestamp_object.date()\n",
    "    time = timestamp_object.time().strftime('%H') # The rest of the time data is turnaceted as it does not add to the statistics.\n",
    "\n",
    "    return date, int(time)"
   ],
   "metadata": {
    "collapsed": false,
    "ExecuteTime": {
     "end_time": "2023-12-10T08:45:58.733755Z",
     "start_time": "2023-12-10T08:45:58.722882Z"
    }
   },
   "id": "987a1eabf59207e0"
  },
  {
   "cell_type": "code",
   "execution_count": 231,
   "outputs": [],
   "source": [
    "def get_mentions(entities):\n",
    "    '''\n",
    "    This function takes in the entities object from the json object and returns a list of mentions. \n",
    "    ---\n",
    "    Parameters:\n",
    "        entities: json object\n",
    "    ---\n",
    "    Returns:\n",
    "        mentions_list: list\n",
    "    '''\n",
    "    mentions = entities['user_mentions']\n",
    "    mentions_list = []\n",
    "    for i in range(len(mentions)):\n",
    "        mentions_list.append(mentions[i]['screen_name'])\n",
    "    return mentions_list"
   ],
   "metadata": {
    "collapsed": false,
    "ExecuteTime": {
     "end_time": "2023-12-10T08:30:01.521963Z",
     "start_time": "2023-12-10T08:30:01.511949Z"
    }
   },
   "id": "740f56eb55193e87"
  },
  {
   "cell_type": "code",
   "execution_count": 232,
   "outputs": [],
   "source": [
    "def is_quote(entities):\n",
    "    '''\n",
    "    This function takes in the entities object from the json object and returns a boolean value indicating whether the tweet is a quote or not.\n",
    "    ---\n",
    "    Parameters:\n",
    "        entities: json object\n",
    "    ---\n",
    "    Returns:\n",
    "        is_quote: bool\n",
    "    '''\n",
    "    urls = entities['urls']\n",
    "    if len(urls) > 0:\n",
    "        for elem in urls:\n",
    "            if 'https://t.co' in elem['url']:\n",
    "                 return True\n",
    "    return False"
   ],
   "metadata": {
    "collapsed": false,
    "ExecuteTime": {
     "end_time": "2023-12-10T08:30:01.988069Z",
     "start_time": "2023-12-10T08:30:01.985081Z"
    }
   },
   "id": "8eb7f6fec78215f4"
  },
  {
   "cell_type": "code",
   "execution_count": 241,
   "outputs": [],
   "source": [
    "def populate_dictionaries(data, is_circle=False):\n",
    "    '''\n",
    "    This function takes in a json object and populates the dictionaries with the data from the json object.\n",
    "    ---\n",
    "    Parameters:\n",
    "        data: json object\n",
    "    ---\n",
    "    Returns:\n",
    "        None\n",
    "    '''\n",
    "\n",
    "    for i in range(len(data)):\n",
    "        tweet_data = data[i]['tweet']\n",
    "        is_retweet = False\n",
    "        if tweet_data['full_text'][0:2] == 'RT':\n",
    "            is_retweet = True\n",
    "        likes = tweet_data['favorite_count']\n",
    "        retweets = tweet_data['retweet_count']\n",
    "        date, time = convert_to_datetime(tweet_data['created_at'])\n",
    "        if 'lang' in list(tweet_data.keys()):\n",
    "            language = tweet_data['lang']\n",
    "        else:\n",
    "            language = 'und'\n",
    "        \n",
    "        if not is_circle:\n",
    "            if is_retweet:\n",
    "                retweets_data['likes'].append(likes)\n",
    "                retweets_data['retweets'].append(retweets)\n",
    "                retweets_data['date'].append(date)\n",
    "                retweets_data['hour'].append(time)\n",
    "                retweets_data['language'].append(language)\n",
    "            else:\n",
    "                tweets_data['likes'].append(likes)\n",
    "                tweets_data['retweets'].append(retweets)\n",
    "                tweets_data['date'].append(date)\n",
    "                tweets_data['hour'].append(time)\n",
    "                tweets_data['language'].append(language)\n",
    "            \n",
    "            tweet_content['content'].append(tweet_data['full_text'])\n",
    "            tweet_content['language'].append(language)\n",
    "            tweet_content['mentions'].append(get_mentions(entities=tweet_data['entities']))\n",
    "            tweet_content['tweet/retweet'].append(int(is_retweet))   \n",
    "            tweet_content['hashtags'].append(list(tweet_data['entities']['hashtags']))\n",
    "            tweet_content['is_quote'].append(int(is_quote(entities=tweet_data['entities'])))\n",
    "            tweet_content['date'].append(date)\n",
    "            tweet_content['hour'].append(time)\n",
    "        else:\n",
    "            circle_tweets_data['likes'].append(likes)\n",
    "            circle_tweets_data['retweets'].append(retweets)\n",
    "            circle_tweets_data['date'].append(date)\n",
    "            circle_tweets_data['hour'].append(time)\n",
    "            circle_tweets_data['language'].append(language)\n",
    "            \n",
    "            circle_tweet_content['content'].append(tweet_data['full_text'])\n",
    "            circle_tweet_content['language'].append(language)\n",
    "            circle_tweet_content['mentions'].append(get_mentions(entities=tweet_data['entities']))\n",
    "            circle_tweet_content['is_quote'].append(int(is_quote(entities=tweet_data['entities'])))\n",
    "            circle_tweet_content['hashtags'].append(list(tweet_data['entities']['hashtags']))\n",
    "            circle_tweet_content['date'].append(date)\n",
    "            circle_tweet_content['hour'].append(time)"
   ],
   "metadata": {
    "collapsed": false,
    "ExecuteTime": {
     "end_time": "2023-12-10T08:30:25.569114Z",
     "start_time": "2023-12-10T08:30:25.543910Z"
    }
   },
   "id": "a0c96c732bc4ddfe"
  },
  {
   "cell_type": "code",
   "execution_count": 234,
   "outputs": [],
   "source": [
    "def read_personalization(data):\n",
    "    '''\n",
    "    This funtion takes a json object as its parameter and updates the personalization data accordingly.\n",
    "    ---\n",
    "    Parameters:\n",
    "        json object\n",
    "    ---\n",
    "    Return:\n",
    "        None \n",
    "    '''\n",
    "    languages_data = [element['language'].lower().strip() for element in data['demographics']['languages']]\n",
    "    interests_data = list(set([element['name'].strip().lower() for element in data['interests']['interests']]))\n",
    "    shows_data = list(set(show.lower().strip() for show in data['interests']['shows']))\n",
    "\n",
    "    personalization_data['languages'] = languages_data\n",
    "    personalization_data['interests'] = interests_data\n",
    "    personalization_data['shows'] = shows_data\n",
    "    personalization_data['inferred_age_info'] = data['inferredAgeInfo']\n",
    "    personalization_data['location_history'] = data['locationHistory']\n",
    "    personalization_data['gender_info'] = data['demographics']['genderInfo']['gender']\n",
    "    "
   ],
   "metadata": {
    "collapsed": false,
    "ExecuteTime": {
     "end_time": "2023-12-10T08:30:03.353196Z",
     "start_time": "2023-12-10T08:30:03.347568Z"
    }
   },
   "id": "d216a18e7f9197bc"
  },
  {
   "cell_type": "code",
   "execution_count": 303,
   "outputs": [],
   "source": [
    "def read_ad_data(data):\n",
    "    '''\n",
    "    This funtion takes a json object as its parameter and updates the ad data accordingly.\n",
    "    ---\n",
    "    Parameters:\n",
    "        json object\n",
    "    ---\n",
    "    Return:\n",
    "        None \n",
    "    '''\n",
    "    \n",
    "    # ad_engagements[0]['ad']['adsUserData']['adEngagements']['engagements'][0]['impressionAttributes']['impressionTime']\n",
    "    for i in range(len(data)):\n",
    "        ad_data = data[i]['ad']['adsUserData']['adEngagements']['engagements']\n",
    "        for j in range(len(ad_data)):\n",
    "            current_eng_attributes_list = ad_data[j]['engagementAttributes']\n",
    "            current_eng_date = ad_data[j]['impressionAttributes']['impressionTime'].split(' ')[0]\n",
    "            if 'matchedTargetingCriteria' in list(ad_data[j]['impressionAttributes'].keys()):\n",
    "                current_target_attributes_list = ad_data[j]['impressionAttributes']['matchedTargetingCriteria']\n",
    "                for k in range(len(current_target_attributes_list)):\n",
    "                    if 'targetingValue' not in list(current_target_attributes_list[k].keys()):\n",
    "                        current_target_attributes_list[k]['targetingValue'] = None\n",
    "                    else:\n",
    "                        targeting_type = str(current_target_attributes_list[k]['targetingType']).lower()\n",
    "                        targeting_value = str(current_target_attributes_list[k]['targetingValue']).lower()\n",
    "                        type_value = (targeting_type, targeting_value, current_eng_date)\n",
    "                        ad_engagements_data['targeting type/targeting value'].append(type_value)\n",
    "                    if k < len(current_eng_attributes_list):\n",
    "                        ad_engagements_data['engagements'].append((current_eng_attributes_list[k]['engagementType'], current_eng_date))\n",
    "                    else:\n",
    "                        ad_engagements_data['engagements'].append((None, current_eng_date))\n",
    "            "
   ],
   "metadata": {
    "collapsed": false,
    "ExecuteTime": {
     "end_time": "2023-12-10T10:46:36.022862Z",
     "start_time": "2023-12-10T10:46:36.011916Z"
    }
   },
   "id": "36dff3e3f431cfa4"
  },
  {
   "cell_type": "markdown",
   "source": [
    "### Reading Data"
   ],
   "metadata": {
    "collapsed": false
   },
   "id": "f034b1c21f7df1dc"
  },
  {
   "cell_type": "code",
   "execution_count": 236,
   "outputs": [],
   "source": [
    "tweets = read_file(filename='tweets.js')\n",
    "circle_tweets = read_file(filename='twitter-circle-tweet.js')"
   ],
   "metadata": {
    "collapsed": false,
    "ExecuteTime": {
     "end_time": "2023-12-10T08:30:05.755174Z",
     "start_time": "2023-12-10T08:30:05.028257Z"
    }
   },
   "id": "cb2563cb22185e4e"
  },
  {
   "cell_type": "code",
   "execution_count": 237,
   "outputs": [],
   "source": [
    "likes = read_file(filename='like.js')"
   ],
   "metadata": {
    "collapsed": false,
    "ExecuteTime": {
     "end_time": "2023-12-10T08:30:05.873019Z",
     "start_time": "2023-12-10T08:30:05.754903Z"
    }
   },
   "id": "e21f04349afc106a"
  },
  {
   "cell_type": "code",
   "execution_count": 238,
   "outputs": [],
   "source": [
    "personalization = read_file(filename='personalization.js')\n",
    "personalization_dict = personalization[0]['p13nData']\n",
    "read_personalization(data=personalization_dict)"
   ],
   "metadata": {
    "collapsed": false,
    "ExecuteTime": {
     "end_time": "2023-12-10T08:30:06.576813Z",
     "start_time": "2023-12-10T08:30:06.541678Z"
    }
   },
   "id": "86278f69c666bac5"
  },
  {
   "cell_type": "code",
   "execution_count": 239,
   "outputs": [],
   "source": [
    "# This cell extracts the full text of the liked tweet and saves it in a dictionary. Some tweets have no \\\n",
    "# \"full text\" attribute. This is taken care of by guarding the extraction statements.\n",
    "likes_content = []\n",
    "missing_content = 0\n",
    "for like in likes:\n",
    "    like = like['like']\n",
    "    if 'fullText' in list(like.keys()):\n",
    "        likes_content.append(like['fullText'])\n",
    "    else:\n",
    "        missing_content += 1"
   ],
   "metadata": {
    "collapsed": false,
    "ExecuteTime": {
     "end_time": "2023-12-10T08:30:07.241966Z",
     "start_time": "2023-12-10T08:30:07.238957Z"
    }
   },
   "id": "10c0da5084f3425a"
  },
  {
   "cell_type": "code",
   "execution_count": 244,
   "outputs": [],
   "source": [
    "populate_dictionaries(data=tweets)\n",
    "populate_dictionaries(data=circle_tweets, is_circle=True)"
   ],
   "metadata": {
    "collapsed": false,
    "ExecuteTime": {
     "end_time": "2023-12-10T08:30:38.596928Z",
     "start_time": "2023-12-10T08:30:38.329865Z"
    }
   },
   "id": "505bcb62a6eb1919"
  },
  {
   "cell_type": "code",
   "execution_count": 304,
   "outputs": [],
   "source": [
    "ad_engagements = read_file(filename='ad-engagements.js')"
   ],
   "metadata": {
    "collapsed": false,
    "ExecuteTime": {
     "end_time": "2023-12-10T10:46:42.618965Z",
     "start_time": "2023-12-10T10:46:42.451930Z"
    }
   },
   "id": "bc2f999ca9625979"
  },
  {
   "cell_type": "code",
   "execution_count": 305,
   "outputs": [],
   "source": [
    "read_ad_data(data=ad_engagements)"
   ],
   "metadata": {
    "collapsed": false,
    "ExecuteTime": {
     "end_time": "2023-12-10T10:46:43.731733Z",
     "start_time": "2023-12-10T10:46:43.695393Z"
    }
   },
   "id": "c19ea4eea4138ccb"
  },
  {
   "cell_type": "markdown",
   "source": [
    "# 3. Write Data to CSV\n",
    "Note that the data saved to the CSV files is not yet cleaned. This will be done in the next notebook."
   ],
   "metadata": {
    "collapsed": false
   },
   "id": "63aebfeeb6497755"
  },
  {
   "cell_type": "markdown",
   "source": [
    "### Defining functions"
   ],
   "metadata": {
    "collapsed": false
   },
   "id": "8fca6c6d7ef0bc33"
  },
  {
   "cell_type": "code",
   "execution_count": 248,
   "outputs": [],
   "source": [
    "def create_dataframe(data):\n",
    "    '''\n",
    "    This function takes in a dictionary and returns a dataframe.\n",
    "    ---\n",
    "    Parameters:\n",
    "        data: dict\n",
    "    ---\n",
    "    Returns:\n",
    "        df: pandas dataframe\n",
    "    '''\n",
    "    df = pd.DataFrame(data)\n",
    "    return df"
   ],
   "metadata": {
    "collapsed": false,
    "ExecuteTime": {
     "end_time": "2023-12-10T08:30:53.980513Z",
     "start_time": "2023-12-10T08:30:53.976451Z"
    }
   },
   "id": "1fab4d91372b3484"
  },
  {
   "cell_type": "markdown",
   "source": [
    "### Writing Data"
   ],
   "metadata": {
    "collapsed": false
   },
   "id": "f6eace57701c2085"
  },
  {
   "cell_type": "code",
   "execution_count": 249,
   "outputs": [],
   "source": [
    "# First, read into dataframes\n",
    "tweets_df = create_dataframe(data=tweets_data)\n",
    "retweets_df = create_dataframe(data=retweets_data)\n",
    "tweet_content_df = create_dataframe(data=tweet_content)"
   ],
   "metadata": {
    "collapsed": false,
    "ExecuteTime": {
     "end_time": "2023-12-10T08:30:55.125205Z",
     "start_time": "2023-12-10T08:30:55.038377Z"
    }
   },
   "id": "f1466a3cab43cdf"
  },
  {
   "cell_type": "code",
   "execution_count": 250,
   "outputs": [],
   "source": [
    "circle_tweets_df = create_dataframe(data=circle_tweets_data)\n",
    "circle_tweets_content_df = create_dataframe(data=circle_tweet_content)"
   ],
   "metadata": {
    "collapsed": false,
    "ExecuteTime": {
     "end_time": "2023-12-10T08:30:55.536581Z",
     "start_time": "2023-12-10T08:30:55.534138Z"
    }
   },
   "id": "e9e7bd17c0141e1a"
  },
  {
   "cell_type": "code",
   "execution_count": 251,
   "outputs": [],
   "source": [
    "tweets_df.to_csv('tweets.csv', index=False)\n",
    "retweets_df.to_csv('retweets.csv', index=False)\n",
    "tweet_content_df.to_csv('tweet_content.csv', index=False)"
   ],
   "metadata": {
    "collapsed": false,
    "ExecuteTime": {
     "end_time": "2023-12-10T08:30:55.964427Z",
     "start_time": "2023-12-10T08:30:55.875952Z"
    }
   },
   "id": "95ab9fdcb1193eed"
  },
  {
   "cell_type": "code",
   "execution_count": 252,
   "outputs": [],
   "source": [
    "circle_tweets_df.to_csv('circle_tweets.csv', index=False)\n",
    "circle_tweets_content_df.to_csv('circle_tweet_content.csv', index=False)"
   ],
   "metadata": {
    "collapsed": false,
    "ExecuteTime": {
     "end_time": "2023-12-10T08:30:56.273636Z",
     "start_time": "2023-12-10T08:30:56.251556Z"
    }
   },
   "id": "f629fb798fc084b"
  },
  {
   "cell_type": "code",
   "execution_count": 253,
   "outputs": [],
   "source": [
    "likes_data = {'likes': likes_content}\n",
    "likes_df = pd.DataFrame(data=likes_data)"
   ],
   "metadata": {
    "collapsed": false,
    "ExecuteTime": {
     "end_time": "2023-12-10T08:30:56.880005Z",
     "start_time": "2023-12-10T08:30:56.877382Z"
    }
   },
   "id": "865585bb193063e1"
  },
  {
   "cell_type": "code",
   "execution_count": 254,
   "outputs": [],
   "source": [
    "likes_df.to_csv('likes.csv', index=False)"
   ],
   "metadata": {
    "collapsed": false,
    "ExecuteTime": {
     "end_time": "2023-12-10T08:30:57.372540Z",
     "start_time": "2023-12-10T08:30:57.247944Z"
    }
   },
   "id": "dabb640b0d17d39b"
  },
  {
   "cell_type": "code",
   "execution_count": 255,
   "outputs": [],
   "source": [
    "json.dump(personalization_data, open('personalization.json', 'w', encoding=ENCODING))"
   ],
   "metadata": {
    "collapsed": false,
    "ExecuteTime": {
     "end_time": "2023-12-10T08:30:57.617047Z",
     "start_time": "2023-12-10T08:30:57.607008Z"
    }
   },
   "id": "c0912d9dc473d469"
  },
  {
   "cell_type": "code",
   "execution_count": 256,
   "outputs": [],
   "source": [
    "interests_df = pd.DataFrame(data={'interests': list(set(personalization_data['interests']))})\n",
    "interests_df.to_csv('interests.csv', index=False)"
   ],
   "metadata": {
    "collapsed": false,
    "ExecuteTime": {
     "end_time": "2023-12-10T08:30:58.211373Z",
     "start_time": "2023-12-10T08:30:58.204307Z"
    }
   },
   "id": "93a2d6230186b8c0"
  },
  {
   "cell_type": "code",
   "execution_count": 258,
   "outputs": [],
   "source": [
    "shows_df = create_dataframe(data={'shows': list(set(personalization_data['shows']))})\n",
    "shows_df.to_csv('shows.csv', index=False)"
   ],
   "metadata": {
    "collapsed": false,
    "ExecuteTime": {
     "end_time": "2023-12-10T08:31:33.374911Z",
     "start_time": "2023-12-10T08:31:33.364438Z"
    }
   },
   "id": "3d79797a82e22288"
  },
  {
   "cell_type": "code",
   "execution_count": 309,
   "outputs": [],
   "source": [
    "ad_interests_df = create_dataframe(data= {'targeting type':[element[0] for element in ad_engagements_data['targeting type/targeting value']], 'targeting value': [element[1] for element in ad_engagements_data['targeting type/targeting value']], 'date': [element[2] for element in ad_engagements_data['targeting type/targeting value']]})\n",
    "ad_engagements_df = create_dataframe(data={'engagements': [element[0] for element in ad_engagements_data['engagements']], 'engagement date': [element[1] for element in ad_engagements_data['engagements']]})"
   ],
   "metadata": {
    "collapsed": false,
    "ExecuteTime": {
     "end_time": "2023-12-10T10:47:38.054804Z",
     "start_time": "2023-12-10T10:47:38.020009Z"
    }
   },
   "id": "5dc13229d039dd6d"
  },
  {
   "cell_type": "code",
   "execution_count": 311,
   "outputs": [],
   "source": [
    "ad_interests_df.to_csv('interests.csv', index=False)\n",
    "ad_engagements_df.to_csv('engagements.csv', index=False)"
   ],
   "metadata": {
    "collapsed": false,
    "ExecuteTime": {
     "end_time": "2023-12-10T10:47:56.130100Z",
     "start_time": "2023-12-10T10:47:56.039908Z"
    }
   },
   "id": "857b559262d014ab"
  },
  {
   "cell_type": "code",
   "execution_count": null,
   "outputs": [],
   "source": [],
   "metadata": {
    "collapsed": false
   },
   "id": "f18f9a0eb938c68a"
  }
 ],
 "metadata": {
  "kernelspec": {
   "display_name": "Python 3",
   "language": "python",
   "name": "python3"
  },
  "language_info": {
   "codemirror_mode": {
    "name": "ipython",
    "version": 2
   },
   "file_extension": ".py",
   "mimetype": "text/x-python",
   "name": "python",
   "nbconvert_exporter": "python",
   "pygments_lexer": "ipython2",
   "version": "2.7.6"
  }
 },
 "nbformat": 4,
 "nbformat_minor": 5
}
